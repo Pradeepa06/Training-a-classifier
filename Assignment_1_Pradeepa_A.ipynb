{
  "nbformat": 4,
  "nbformat_minor": 0,
  "metadata": {
    "colab": {
      "name": "Assignment 1 - Pradeepa A.ipynb",
      "provenance": [],
      "collapsed_sections": [],
      "authorship_tag": "ABX9TyNveKDxm9tezKkHf/kZzv7R",
      "include_colab_link": true
    },
    "kernelspec": {
      "name": "python3",
      "display_name": "Python 3"
    },
    "language_info": {
      "name": "python"
    }
  },
  "cells": [
    {
      "cell_type": "markdown",
      "metadata": {
        "id": "view-in-github",
        "colab_type": "text"
      },
      "source": [
        "<a href=\"https://colab.research.google.com/github/Pradeepa06/Training-a-classifier/blob/main/Assignment_1_Pradeepa_A.ipynb\" target=\"_parent\"><img src=\"https://colab.research.google.com/assets/colab-badge.svg\" alt=\"Open In Colab\"/></a>"
      ]
    },
    {
      "cell_type": "markdown",
      "metadata": {
        "id": "U8PzTQB-fSHl"
      },
      "source": [
        "#Linspace \n",
        "###1.Built in \n",
        "###2.Custom ops"
      ]
    },
    {
      "cell_type": "code",
      "metadata": {
        "colab": {
          "base_uri": "https://localhost:8080/"
        },
        "id": "wSDN6CB9fmRQ",
        "outputId": "78593c01-a1b2-42c4-f9f7-761b1ab83248"
      },
      "source": [
        "import torch\n",
        "\n",
        "print('Linspace Built in ') \n",
        "x=torch.linspace(3,10,5)\n",
        "print(x)\n",
        "print('Linspace custom ops')\n",
        "x1=3\n",
        "x2=10\n",
        "n=5\n",
        "a=torch.sub(x2,x1)\n",
        "b=torch.sub(n,1) \n",
        "c=torch.div(a,b) \n",
        "x1=c\n",
        "x=torch.range(3,10,step=x1)\n",
        "print(x)"
      ],
      "execution_count": null,
      "outputs": [
        {
          "output_type": "stream",
          "text": [
            "Linspace Built in \n",
            "tensor([ 3.0000,  4.7500,  6.5000,  8.2500, 10.0000])\n",
            "Linspace custom ops\n",
            "tensor([ 3.0000,  4.7500,  6.5000,  8.2500, 10.0000])\n"
          ],
          "name": "stdout"
        },
        {
          "output_type": "stream",
          "text": [
            "/usr/local/lib/python3.7/dist-packages/ipykernel_launcher.py:13: UserWarning: torch.range is deprecated and will be removed in a future release because its behavior is inconsistent with Python's range builtin. Instead, use torch.arange, which produces values in [start, end).\n",
            "  del sys.path[0]\n"
          ],
          "name": "stderr"
        }
      ]
    },
    {
      "cell_type": "markdown",
      "metadata": {
        "id": "85oIepSnz0tj"
      },
      "source": [
        "###PyTest "
      ]
    },
    {
      "cell_type": "code",
      "metadata": {
        "colab": {
          "base_uri": "https://localhost:8080/"
        },
        "id": "f9IznPobSW-1",
        "outputId": "d7cad145-f014-4f50-9477-6601bdf2aaa9"
      },
      "source": [
        "%%file math_2.py\n",
        "\n",
        "import torch\n",
        "\n",
        "X=torch.linspace(3,10,5)\n",
        "\n",
        "def compute_function(start,end,steps):\n",
        "\n",
        "  a=torch.sub(end,start)\n",
        "  b=torch.sub(steps,1)\n",
        "  c=torch.div(a,b)\n",
        "  x1=c\n",
        "  m=start\n",
        "  n=end\n",
        "  x=torch.range(m,n,x1)\n",
        "\n",
        "  return x"
      ],
      "execution_count": null,
      "outputs": [
        {
          "output_type": "stream",
          "text": [
            "Overwriting math_2.py\n"
          ],
          "name": "stdout"
        }
      ]
    },
    {
      "cell_type": "code",
      "metadata": {
        "colab": {
          "base_uri": "https://localhost:8080/"
        },
        "id": "omZJA1wLTBp0",
        "outputId": "3f4611c6-2b92-4df9-a352-3a581af77a32"
      },
      "source": [
        "%%file test_math_2.py\n",
        "\n",
        "import math_2\n",
        "import torch\n",
        "\n",
        "def test_compute_function():\n",
        "  X=torch.linspace(3,10,5)\n",
        "  Y=math_2.compute_function(3,10,5)\n",
        "  assert torch.equal(X,Y)\n"
      ],
      "execution_count": null,
      "outputs": [
        {
          "output_type": "stream",
          "text": [
            "Overwriting test_math_2.py\n"
          ],
          "name": "stdout"
        }
      ]
    },
    {
      "cell_type": "code",
      "metadata": {
        "colab": {
          "base_uri": "https://localhost:8080/"
        },
        "id": "uI2Y4ctiTUjz",
        "outputId": "8b9aff7e-cff7-413e-8231-c86452bb3c91"
      },
      "source": [
        "!pytest -v test_math_2.py"
      ],
      "execution_count": null,
      "outputs": [
        {
          "output_type": "stream",
          "text": [
            "\u001b[1m============================= test session starts ==============================\u001b[0m\n",
            "platform linux2 -- Python 2.7.17, pytest-3.6.4, py-1.8.0, pluggy-0.7.1 -- /usr/bin/python2\n",
            "cachedir: .pytest_cache\n",
            "rootdir: /content, inifile:\n",
            "collected 1 item                                                               \u001b[0m\n",
            "\n",
            "test_math_2.py::test_compute_function \u001b[32mPASSED\u001b[0m\u001b[36m                             [100%]\u001b[0m\n",
            "\n",
            "\u001b[32m\u001b[1m=========================== 1 passed in 0.49 seconds ===========================\u001b[0m\n"
          ],
          "name": "stdout"
        }
      ]
    }
  ]
}