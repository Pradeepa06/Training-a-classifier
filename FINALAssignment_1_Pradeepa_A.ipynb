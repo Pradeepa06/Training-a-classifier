{
  "nbformat": 4,
  "nbformat_minor": 0,
  "metadata": {
    "colab": {
      "name": "FINALAssignment 1 - Pradeepa A.ipynb",
      "provenance": [],
      "collapsed_sections": [],
      "authorship_tag": "ABX9TyO25bJG9oPzSB8PsatKQngo",
      "include_colab_link": true
    },
    "kernelspec": {
      "name": "python3",
      "display_name": "Python 3"
    },
    "language_info": {
      "name": "python"
    }
  },
  "cells": [
    {
      "cell_type": "markdown",
      "metadata": {
        "id": "view-in-github",
        "colab_type": "text"
      },
      "source": [
        "<a href=\"https://colab.research.google.com/github/Pradeepa06/Training-a-classifier/blob/main/FINALAssignment_1_Pradeepa_A.ipynb\" target=\"_parent\"><img src=\"https://colab.research.google.com/assets/colab-badge.svg\" alt=\"Open In Colab\"/></a>"
      ]
    },
    {
      "cell_type": "markdown",
      "metadata": {
        "id": "U8PzTQB-fSHl"
      },
      "source": [
        "#Linspace \n",
        "###1.Built in \n",
        "###2.Custom ops"
      ]
    },
    {
      "cell_type": "code",
      "metadata": {
        "colab": {
          "base_uri": "https://localhost:8080/"
        },
        "id": "wSDN6CB9fmRQ",
        "outputId": "78593c01-a1b2-42c4-f9f7-761b1ab83248"
      },
      "source": [
        "import torch\n",
        "\n",
        "print('Linspace Built in ') \n",
        "x=torch.linspace(3,10,5)\n",
        "print(x)\n",
        "print('Linspace custom ops')\n",
        "x1=3\n",
        "x2=10\n",
        "n=5\n",
        "a=torch.sub(x2,x1)\n",
        "b=torch.sub(n,1) \n",
        "c=torch.div(a,b) \n",
        "x1=c\n",
        "x=torch.range(3,10,step=x1)\n",
        "print(x)"
      ],
      "execution_count": null,
      "outputs": [
        {
          "output_type": "stream",
          "text": [
            "Linspace Built in \n",
            "tensor([ 3.0000,  4.7500,  6.5000,  8.2500, 10.0000])\n",
            "Linspace custom ops\n",
            "tensor([ 3.0000,  4.7500,  6.5000,  8.2500, 10.0000])\n"
          ],
          "name": "stdout"
        },
        {
          "output_type": "stream",
          "text": [
            "/usr/local/lib/python3.7/dist-packages/ipykernel_launcher.py:13: UserWarning: torch.range is deprecated and will be removed in a future release because its behavior is inconsistent with Python's range builtin. Instead, use torch.arange, which produces values in [start, end).\n",
            "  del sys.path[0]\n"
          ],
          "name": "stderr"
        }
      ]
    },
    {
      "cell_type": "markdown",
      "metadata": {
        "id": "85oIepSnz0tj"
      },
      "source": [
        "###PyTest "
      ]
    },
    {
      "cell_type": "code",
      "metadata": {
        "colab": {
          "base_uri": "https://localhost:8080/"
        },
        "id": "f9IznPobSW-1",
        "outputId": "7dacb7c9-49c6-4149-88af-2d3d5f02d46b"
      },
      "source": [
        "%%file math_2.py\n",
        "\n",
        "import torch\n",
        "\n",
        "\n",
        "def compute_function(start,end,steps):\n",
        "\n",
        "  a=torch.sub(end,start)\n",
        "  # b=torch.sub(steps,1)\n",
        "  # c=torch.div(a,b)\n",
        "  # x1=c\n",
        "  m=start\n",
        "  n=end\n",
        "  if steps==0:\n",
        "    x=torch.range(m,n)\n",
        "  else:\n",
        "    b=torch.sub(steps,1)\n",
        "    c=torch.div(a,b)\n",
        "    x1=c\n",
        "    x=torch.range(m,n,x1)\n",
        "\n",
        "  # x=torch.range(m,n,x1)\n",
        "\n",
        "  return x"
      ],
      "execution_count": 65,
      "outputs": [
        {
          "output_type": "stream",
          "text": [
            "Overwriting math_2.py\n"
          ],
          "name": "stdout"
        }
      ]
    },
    {
      "cell_type": "code",
      "metadata": {
        "colab": {
          "base_uri": "https://localhost:8080/"
        },
        "id": "omZJA1wLTBp0",
        "outputId": "3edf99c8-1f67-4408-9dca-32618c057620"
      },
      "source": [
        "%%file test_math_2.py\n",
        "\n",
        "import math_2\n",
        "import pytest\n",
        "import torch\n",
        "@pytest.mark.parametrize('start,end,steps',((3,10,2),(2,5,4),(25,100,6),(-5,10,6),(20,35,0),(1,100,10),(-40,40,5))) \n",
        "def test_compute_function(start,end,steps):\n",
        "  X=torch.linspace(start,end,steps)\n",
        "  Y=math_2.compute_function(start,end,steps)\n",
        "  assert torch.equal(X,Y)\n"
      ],
      "execution_count": 66,
      "outputs": [
        {
          "output_type": "stream",
          "text": [
            "Overwriting test_math_2.py\n"
          ],
          "name": "stdout"
        }
      ]
    },
    {
      "cell_type": "code",
      "metadata": {
        "colab": {
          "base_uri": "https://localhost:8080/"
        },
        "id": "uI2Y4ctiTUjz",
        "outputId": "28a9eabc-27c2-4583-cfd8-a40010073234"
      },
      "source": [
        "!pytest -v test_math_2.py"
      ],
      "execution_count": 67,
      "outputs": [
        {
          "output_type": "stream",
          "text": [
            "\u001b[1m============================= test session starts ==============================\u001b[0m\n",
            "platform linux2 -- Python 2.7.17, pytest-3.6.4, py-1.8.0, pluggy-0.7.1 -- /usr/bin/python2\n",
            "cachedir: .pytest_cache\n",
            "rootdir: /content, inifile:\n",
            "collected 7 items                                                              \u001b[0m\n",
            "\n",
            "test_math_2.py::test_compute_function[3-10-2] \u001b[32mPASSED\u001b[0m\u001b[36m                     [ 14%]\u001b[0m\n",
            "test_math_2.py::test_compute_function[2-5-4] \u001b[32mPASSED\u001b[0m\u001b[36m                      [ 28%]\u001b[0m\n",
            "test_math_2.py::test_compute_function[25-100-6] \u001b[32mPASSED\u001b[0m\u001b[36m                   [ 42%]\u001b[0m\n",
            "test_math_2.py::test_compute_function[-5-10-6] \u001b[32mPASSED\u001b[0m\u001b[36m                    [ 57%]\u001b[0m\n",
            "test_math_2.py::test_compute_function[20-35-0] \u001b[31mFAILED\u001b[0m\u001b[36m                    [ 71%]\u001b[0m\n",
            "test_math_2.py::test_compute_function[1-100-10] \u001b[32mPASSED\u001b[0m\u001b[36m                   [ 85%]\u001b[0m\n",
            "test_math_2.py::test_compute_function[-40-40-5] \u001b[32mPASSED\u001b[0m\u001b[36m                   [100%]\u001b[0m\n",
            "\n",
            "=================================== FAILURES ===================================\n",
            "\u001b[1m\u001b[31m________________________ test_compute_function[20-35-0] ________________________\u001b[0m\n",
            "\n",
            "start = 20, end = 35, steps = 0\n",
            "\n",
            "\u001b[1m    @pytest.mark.parametrize('start,end,steps',((3,10,2),(2,5,4),(25,100,6),(-5,10,6),(20,35,0),(1,100,10),(-40,40,5)))\u001b[0m\n",
            "\u001b[1m    def test_compute_function(start,end,steps):\u001b[0m\n",
            "\u001b[1m      X=torch.linspace(start,end,steps)\u001b[0m\n",
            "\u001b[1m      Y=math_2.compute_function(start,end,steps)\u001b[0m\n",
            "\u001b[1m>     assert torch.equal(X,Y)\u001b[0m\n",
            "\u001b[1m\u001b[31mE     assert False\u001b[0m\n",
            "\u001b[1m\u001b[31mE      +  where False = <built-in function equal>(tensor([]), tensor([20., 21., 22., 23., 24., 25., 26., 27., 28., 29., 30., 31., 32., 33.,\\n        34., 35.]))\u001b[0m\n",
            "\u001b[1m\u001b[31mE      +    where <built-in function equal> = torch.equal\u001b[0m\n",
            "\n",
            "\u001b[1m\u001b[31mtest_math_2.py\u001b[0m:9: AssertionError\n",
            "\u001b[33m=============================== warnings summary ===============================\u001b[0m\n",
            "test_math_2.py::test_compute_function[3-10-2]\n",
            "  /content/math_2.py:19: UserWarning: torch.range is deprecated in favor of torch.arange and will be removed in 0.5. Note that arange generates values in [start; end), not [start; end].\n",
            "    x=torch.range(m,n,x1)\n",
            "\n",
            "test_math_2.py::test_compute_function[20-35-0]\n",
            "  /content/math_2.py:14: UserWarning: torch.range is deprecated in favor of torch.arange and will be removed in 0.5. Note that arange generates values in [start; end), not [start; end].\n",
            "    x=torch.range(m,n)\n",
            "\n",
            "-- Docs: http://doc.pytest.org/en/latest/warnings.html\n",
            "\u001b[1m\u001b[31m================ 1 failed, 6 passed, 2 warnings in 0.57 seconds ================\u001b[0m\n"
          ],
          "name": "stdout"
        }
      ]
    },
    {
      "cell_type": "code",
      "metadata": {
        "id": "9b9z6CLEAxPO"
      },
      "source": [
        ""
      ],
      "execution_count": null,
      "outputs": []
    }
  ]
}