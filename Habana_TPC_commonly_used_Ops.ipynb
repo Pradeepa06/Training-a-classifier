{
  "nbformat": 4,
  "nbformat_minor": 0,
  "metadata": {
    "colab": {
      "name": "Habana TPC commonly used Ops.ipynb",
      "provenance": [],
      "collapsed_sections": [],
      "authorship_tag": "ABX9TyOz649XwiplbAWmli3n+uFi",
      "include_colab_link": true
    },
    "kernelspec": {
      "name": "python3",
      "display_name": "Python 3"
    },
    "language_info": {
      "name": "python"
    }
  },
  "cells": [
    {
      "cell_type": "markdown",
      "metadata": {
        "id": "view-in-github",
        "colab_type": "text"
      },
      "source": [
        "<a href=\"https://colab.research.google.com/github/Pradeepa06/Training-a-classifier/blob/main/Habana_TPC_commonly_used_Ops.ipynb\" target=\"_parent\"><img src=\"https://colab.research.google.com/assets/colab-badge.svg\" alt=\"Open In Colab\"/></a>"
      ]
    },
    {
      "cell_type": "markdown",
      "metadata": {
        "id": "NmEHd_Qg7K21"
      },
      "source": [
        "torch.add"
      ]
    },
    {
      "cell_type": "code",
      "metadata": {
        "colab": {
          "base_uri": "https://localhost:8080/"
        },
        "id": "c5L3CeuX7MfI",
        "outputId": "0b318f30-d286-4247-dafc-ec0384c51931"
      },
      "source": [
        "import torch\n",
        "x=torch.tensor([3.5,4,67,42,982])\n",
        "print('X is ',x)\n",
        "y=torch.add(x,25253.53)\n",
        "print('Result is',y)"
      ],
      "execution_count": 11,
      "outputs": [
        {
          "output_type": "stream",
          "text": [
            "X is  tensor([  3.5000,   4.0000,  67.0000,  42.0000, 982.0000])\n",
            "Result is tensor([25257.0293, 25257.5293, 25320.5293, 25295.5293, 26235.5293])\n"
          ],
          "name": "stdout"
        }
      ]
    },
    {
      "cell_type": "markdown",
      "metadata": {
        "id": "oSU5FboI75zI"
      },
      "source": [
        "torch.sub"
      ]
    },
    {
      "cell_type": "code",
      "metadata": {
        "colab": {
          "base_uri": "https://localhost:8080/"
        },
        "id": "cgWtNjDU764s",
        "outputId": "e11e074d-6350-49c8-8985-ad3a934428c3"
      },
      "source": [
        "import torch\n",
        "x= torch.rand(2,2)\n",
        "print('X is',x)\n",
        "y= torch.rand(2,2)\n",
        "print('Y is',y)\n",
        "z=torch.sub(x,y)\n",
        "print(z)"
      ],
      "execution_count": 13,
      "outputs": [
        {
          "output_type": "stream",
          "text": [
            "X is tensor([[0.8002, 0.9441],\n",
            "        [0.5257, 0.2737]])\n",
            "Y is tensor([[0.4668, 0.2431],\n",
            "        [0.1651, 0.3589]])\n",
            "tensor([[ 0.3334,  0.7010],\n",
            "        [ 0.3606, -0.0853]])\n"
          ],
          "name": "stdout"
        }
      ]
    },
    {
      "cell_type": "markdown",
      "metadata": {
        "id": "ThKIPGhf4nly"
      },
      "source": [
        "torch.mul"
      ]
    },
    {
      "cell_type": "code",
      "metadata": {
        "colab": {
          "base_uri": "https://localhost:8080/"
        },
        "id": "rcnZMTDj4n-C",
        "outputId": "591cd8f1-f13a-4000-c12b-0ed853cff8f4"
      },
      "source": [
        "import torch\n",
        "x=torch.rand(3,2)\n",
        "print('X is ',x)\n",
        "y=torch.rand(3,2)\n",
        "print('Y is ',x)\n",
        "a=torch.mul(x,y)\n",
        "print('Result is',a)"
      ],
      "execution_count": null,
      "outputs": [
        {
          "output_type": "stream",
          "text": [
            "X is  tensor([[0.8525, 0.2993],\n",
            "        [0.6547, 0.8897],\n",
            "        [0.9786, 0.9396]])\n",
            "Y is  tensor([[0.8525, 0.2993],\n",
            "        [0.6547, 0.8897],\n",
            "        [0.9786, 0.9396]])\n",
            "Result is tensor([[0.1712, 0.0872],\n",
            "        [0.6161, 0.6987],\n",
            "        [0.8403, 0.7149]])\n"
          ],
          "name": "stdout"
        }
      ]
    },
    {
      "cell_type": "markdown",
      "metadata": {
        "id": "TDrtTo-95Zcf"
      },
      "source": [
        "torch.div"
      ]
    },
    {
      "cell_type": "code",
      "metadata": {
        "colab": {
          "base_uri": "https://localhost:8080/"
        },
        "id": "5e4T5w615bTE",
        "outputId": "15363bcb-eeef-4259-8c75-4b5e51cc7d0c"
      },
      "source": [
        "import torch\n",
        "x=torch.rand(3)\n",
        "print('X is',x)\n",
        "y=torch.div(x,2)\n",
        "print('Result is',y)"
      ],
      "execution_count": null,
      "outputs": [
        {
          "output_type": "stream",
          "text": [
            "X is tensor([0.8888, 0.7731, 0.2212])\n",
            "Result is tensor([0.4444, 0.3866, 0.1106])\n"
          ],
          "name": "stdout"
        }
      ]
    },
    {
      "cell_type": "markdown",
      "metadata": {
        "id": "S8K32fP__hr2"
      },
      "source": [
        "torch.transpose"
      ]
    },
    {
      "cell_type": "code",
      "metadata": {
        "id": "nXOgbDIa6ZkI",
        "colab": {
          "base_uri": "https://localhost:8080/"
        },
        "outputId": "83af9945-5626-4c96-91cb-d810bf653548"
      },
      "source": [
        "import torch\n",
        "x= torch.rand(5,3)\n",
        "print('X val is ',x)\n",
        "y=torch.transpose(x,1,-2)\n",
        "print('Result is',y)"
      ],
      "execution_count": 29,
      "outputs": [
        {
          "output_type": "stream",
          "text": [
            "X val is  tensor([[0.6288, 0.5125, 0.1168],\n",
            "        [0.8923, 0.9187, 0.4034],\n",
            "        [0.9842, 0.2340, 0.3434],\n",
            "        [0.7013, 0.4291, 0.8367],\n",
            "        [0.3160, 0.7848, 0.0768]])\n",
            "Result is tensor([[0.6288, 0.8923, 0.9842, 0.7013, 0.3160],\n",
            "        [0.5125, 0.9187, 0.2340, 0.4291, 0.7848],\n",
            "        [0.1168, 0.4034, 0.3434, 0.8367, 0.0768]])\n"
          ],
          "name": "stdout"
        }
      ]
    },
    {
      "cell_type": "markdown",
      "metadata": {
        "id": "SAgcJniVB8mK"
      },
      "source": [
        "torch.concat\n"
      ]
    },
    {
      "cell_type": "code",
      "metadata": {
        "colab": {
          "base_uri": "https://localhost:8080/"
        },
        "id": "HuUN9ZBYAkfX",
        "outputId": "7771ef53-5d38-4ea7-dd1e-254e73f54def"
      },
      "source": [
        "import torch\n",
        "x=torch.tensor([2,3,57,2.6,23,657,858,342])\n",
        "y=torch.tensor([563.63,32,0,425.6,11])\n",
        "print('X and y val is\\n ',x,y)\n",
        "z=torch.cat((x,y),dim=0)\n",
        "print('Result is',z)\n",
        "print('Additonal changes') # size is n = > split- > n/splitvalue\n",
        "x1=torch.split(z,3,dim=0)\n",
        "print('split data is ',x1)\n",
        "y1=torch.chunk(z,3,dim=0) # size is n => chunk - > n/chunkvalue pairs view of input tensor\n",
        "print('Chunk data is ',y1)"
      ],
      "execution_count": 53,
      "outputs": [
        {
          "output_type": "stream",
          "text": [
            "X and y val is\n",
            "  tensor([  2.0000,   3.0000,  57.0000,   2.6000,  23.0000, 657.0000, 858.0000,\n",
            "        342.0000]) tensor([563.6300,  32.0000,   0.0000, 425.6000,  11.0000])\n",
            "Result is tensor([  2.0000,   3.0000,  57.0000,   2.6000,  23.0000, 657.0000, 858.0000,\n",
            "        342.0000, 563.6300,  32.0000,   0.0000, 425.6000,  11.0000])\n",
            "Additonal changes\n",
            "split data is  (tensor([ 2.,  3., 57.]), tensor([  2.6000,  23.0000, 657.0000]), tensor([858.0000, 342.0000, 563.6300]), tensor([ 32.0000,   0.0000, 425.6000]), tensor([11.]))\n",
            "Chunk data is  (tensor([ 2.0000,  3.0000, 57.0000,  2.6000, 23.0000]), tensor([657.0000, 858.0000, 342.0000, 563.6300,  32.0000]), tensor([  0.0000, 425.6000,  11.0000]))\n"
          ],
          "name": "stdout"
        }
      ]
    },
    {
      "cell_type": "code",
      "metadata": {
        "colab": {
          "base_uri": "https://localhost:8080/"
        },
        "id": "9ZDv3ahyJG7-",
        "outputId": "cceaba6a-1b91-4fb3-ca6a-8dbd3c025a77"
      },
      "source": [
        "import torch\n",
        "\n",
        "torch.arange(100).chunk(25, dim=0)\n",
        "# torch.arange(7).split(2, dim=0)"
      ],
      "execution_count": 108,
      "outputs": [
        {
          "output_type": "execute_result",
          "data": {
            "text/plain": [
              "(tensor([0, 1, 2, 3]),\n",
              " tensor([4, 5, 6, 7]),\n",
              " tensor([ 8,  9, 10, 11]),\n",
              " tensor([12, 13, 14, 15]),\n",
              " tensor([16, 17, 18, 19]),\n",
              " tensor([20, 21, 22, 23]),\n",
              " tensor([24, 25, 26, 27]),\n",
              " tensor([28, 29, 30, 31]),\n",
              " tensor([32, 33, 34, 35]),\n",
              " tensor([36, 37, 38, 39]),\n",
              " tensor([40, 41, 42, 43]),\n",
              " tensor([44, 45, 46, 47]),\n",
              " tensor([48, 49, 50, 51]),\n",
              " tensor([52, 53, 54, 55]),\n",
              " tensor([56, 57, 58, 59]),\n",
              " tensor([60, 61, 62, 63]),\n",
              " tensor([64, 65, 66, 67]),\n",
              " tensor([68, 69, 70, 71]),\n",
              " tensor([72, 73, 74, 75]),\n",
              " tensor([76, 77, 78, 79]),\n",
              " tensor([80, 81, 82, 83]),\n",
              " tensor([84, 85, 86, 87]),\n",
              " tensor([88, 89, 90, 91]),\n",
              " tensor([92, 93, 94, 95]),\n",
              " tensor([96, 97, 98, 99]))"
            ]
          },
          "metadata": {
            "tags": []
          },
          "execution_count": 108
        }
      ]
    },
    {
      "cell_type": "code",
      "metadata": {
        "colab": {
          "base_uri": "https://localhost:8080/"
        },
        "id": "mjfZtxgNE5hV",
        "outputId": "d4be469e-4222-4302-df40-480e7133cd2a"
      },
      "source": [
        "torch.arange(100).split(25, dim=0)"
      ],
      "execution_count": 107,
      "outputs": [
        {
          "output_type": "execute_result",
          "data": {
            "text/plain": [
              "(tensor([ 0,  1,  2,  3,  4,  5,  6,  7,  8,  9, 10, 11, 12, 13, 14, 15, 16, 17,\n",
              "         18, 19, 20, 21, 22, 23, 24]),\n",
              " tensor([25, 26, 27, 28, 29, 30, 31, 32, 33, 34, 35, 36, 37, 38, 39, 40, 41, 42,\n",
              "         43, 44, 45, 46, 47, 48, 49]),\n",
              " tensor([50, 51, 52, 53, 54, 55, 56, 57, 58, 59, 60, 61, 62, 63, 64, 65, 66, 67,\n",
              "         68, 69, 70, 71, 72, 73, 74]),\n",
              " tensor([75, 76, 77, 78, 79, 80, 81, 82, 83, 84, 85, 86, 87, 88, 89, 90, 91, 92,\n",
              "         93, 94, 95, 96, 97, 98, 99]))"
            ]
          },
          "metadata": {
            "tags": []
          },
          "execution_count": 107
        }
      ]
    },
    {
      "cell_type": "markdown",
      "metadata": {
        "id": "-donIo7dztGX"
      },
      "source": [
        "torch.reshape"
      ]
    },
    {
      "cell_type": "code",
      "metadata": {
        "colab": {
          "base_uri": "https://localhost:8080/"
        },
        "id": "vtkA75RHzvTQ",
        "outputId": "fde66bdc-0980-48d3-c576-f652fe897dce"
      },
      "source": [
        "import torch\n",
        "a=torch.rand(6).reshape(3,2)\n",
        "print('Result is\\n',a)"
      ],
      "execution_count": 11,
      "outputs": [
        {
          "output_type": "stream",
          "text": [
            "Result is\n",
            " tensor([[0.1224, 0.4981],\n",
            "        [0.2577, 0.2537],\n",
            "        [0.5807, 0.0296]])\n"
          ],
          "name": "stdout"
        }
      ]
    },
    {
      "cell_type": "markdown",
      "metadata": {
        "id": "F-L5bVnY1CL2"
      },
      "source": [
        "torch.slice"
      ]
    },
    {
      "cell_type": "code",
      "metadata": {
        "colab": {
          "base_uri": "https://localhost:8080/"
        },
        "id": "qNWYHHp71h_b",
        "outputId": "bb402f61-40b1-42a1-8331-a9b7fe4d9c65"
      },
      "source": [
        "#2\n",
        "import torch\n",
        "a= torch.tensor([2,3,4,5,6,7,8])\n",
        "print('Slicing')\n",
        "print(a[2:])\n",
        "print(a[-1:])\n",
        "print(a[:-1])\n",
        "print(a[:])\n",
        "print(a[:2])\n",
        "print(a[0:])\n",
        "print(a[2:5])\n",
        "print('Indexing')\n",
        "\n",
        "print(a[-1])\n"
      ],
      "execution_count": 27,
      "outputs": [
        {
          "output_type": "stream",
          "text": [
            "Slicing\n",
            "tensor([4, 5, 6, 7, 8])\n",
            "tensor([8])\n",
            "tensor([2, 3, 4, 5, 6, 7])\n",
            "tensor([2, 3, 4, 5, 6, 7, 8])\n",
            "tensor([2, 3])\n",
            "tensor([2, 3, 4, 5, 6, 7, 8])\n",
            "tensor([4, 5, 6])\n",
            "Indexing\n",
            "tensor(8)\n"
          ],
          "name": "stdout"
        }
      ]
    },
    {
      "cell_type": "code",
      "metadata": {
        "colab": {
          "base_uri": "https://localhost:8080/"
        },
        "id": "shHUn4SKzvZf",
        "outputId": "6364bb46-6feb-440b-b964-1f2925ae2839"
      },
      "source": [
        ""
      ],
      "execution_count": 18,
      "outputs": [
        {
          "output_type": "stream",
          "text": [
            "tensor([2, 3])\n"
          ],
          "name": "stdout"
        }
      ]
    },
    {
      "cell_type": "markdown",
      "metadata": {
        "id": "Fl8sc-JN6H83"
      },
      "source": [
        "torch.ge"
      ]
    },
    {
      "cell_type": "code",
      "metadata": {
        "colab": {
          "base_uri": "https://localhost:8080/"
        },
        "id": "5JpLWr7DJSPu",
        "outputId": "1bc3cb02-db1c-4197-e6ab-797584a05af4"
      },
      "source": [
        "import torch\n",
        "a=torch.tensor([2,3,5,6])\n",
        "b=torch.tensor([2,5,72,2])\n",
        "c=torch.ge(a,b)\n",
        "d=torch.gt(a,b)\n",
        "print(' GE Result is',c)\n",
        "print(' GT Result is',d)\n"
      ],
      "execution_count": 31,
      "outputs": [
        {
          "output_type": "stream",
          "text": [
            " GE Result is tensor([ True, False, False,  True])\n",
            " GT Result is tensor([False, False, False,  True])\n"
          ],
          "name": "stdout"
        }
      ]
    },
    {
      "cell_type": "markdown",
      "metadata": {
        "id": "f-aF26fr6umT"
      },
      "source": [
        "torch.lt"
      ]
    },
    {
      "cell_type": "code",
      "metadata": {
        "colab": {
          "base_uri": "https://localhost:8080/"
        },
        "id": "8SKdYjzb6U0-",
        "outputId": "8f441cae-32b1-4674-e51c-8fe56f91ad95"
      },
      "source": [
        "import torch\n",
        "a=torch.tensor([12,3,5,236])\n",
        "b=torch.tensor([2,5,72,236])\n",
        "c=torch.le(a,b)\n",
        "d=torch.lt(a,b)\n",
        "print(' LE Result is',c)\n",
        "print(' LT Result is',d)\n"
      ],
      "execution_count": 32,
      "outputs": [
        {
          "output_type": "stream",
          "text": [
            " LE Result is tensor([False,  True,  True,  True])\n",
            " LT Result is tensor([False,  True,  True, False])\n"
          ],
          "name": "stdout"
        }
      ]
    },
    {
      "cell_type": "markdown",
      "metadata": {
        "id": "d_cKzRo9GwDz"
      },
      "source": [
        "PyTest "
      ]
    },
    {
      "cell_type": "code",
      "metadata": {
        "id": "RfsZmgaf7H7R"
      },
      "source": [
        "word=\"Pradeepa\""
      ],
      "execution_count": 41,
      "outputs": []
    },
    {
      "cell_type": "code",
      "metadata": {
        "id": "vOzpYWYRG1OF"
      },
      "source": [
        "assert word== \"Pradeepa\",\"Incorrect\""
      ],
      "execution_count": 42,
      "outputs": []
    },
    {
      "cell_type": "code",
      "metadata": {
        "colab": {
          "base_uri": "https://localhost:8080/"
        },
        "id": "yvcoYiKfG4rS",
        "outputId": "4ffff126-def4-45e2-d48a-e04cd11b422c"
      },
      "source": [
        "%%file math_1.py\n",
        "\n",
        "def add(x,y):\n",
        "  return x+y\n",
        "\n",
        "def check(x):\n",
        "   return x\n"
      ],
      "execution_count": 230,
      "outputs": [
        {
          "output_type": "stream",
          "text": [
            "Overwriting math_1.py\n"
          ],
          "name": "stdout"
        }
      ]
    },
    {
      "cell_type": "code",
      "metadata": {
        "colab": {
          "base_uri": "https://localhost:8080/"
        },
        "id": "evBT6cPuHcAN",
        "outputId": "57a45dfa-6039-40ce-a8ec-ad4dbb7650a4"
      },
      "source": [
        "%%file test_math_1.py\n",
        "\n",
        "import math_1\n",
        "import torch\n",
        "\n",
        "def test_add():\n",
        "\n",
        "  assert math_1.add(5,5)==10\n",
        "\n",
        "def test_check():\n",
        "  x=torch.tensor([1,3])\n",
        "  assert(x,math_1.check(torch.tensor([1,3])))"
      ],
      "execution_count": 231,
      "outputs": [
        {
          "output_type": "stream",
          "text": [
            "Overwriting test_math_1.py\n"
          ],
          "name": "stdout"
        }
      ]
    },
    {
      "cell_type": "code",
      "metadata": {
        "colab": {
          "base_uri": "https://localhost:8080/"
        },
        "id": "epbhf5yVHwUP",
        "outputId": "022f7fbf-2d67-44de-a9a5-4f6ab37e5094"
      },
      "source": [
        "!pytest test_math_1.py"
      ],
      "execution_count": 232,
      "outputs": [
        {
          "output_type": "stream",
          "text": [
            "\u001b[1m============================= test session starts ==============================\u001b[0m\n",
            "platform linux2 -- Python 2.7.17, pytest-3.6.4, py-1.8.0, pluggy-0.7.1\n",
            "rootdir: /content, inifile:\n",
            "collected 2 items                                                              \u001b[0m\n",
            "\n",
            "test_math_1.py ..\u001b[36m                                                        [100%]\u001b[0m\n",
            "\n",
            "\u001b[33m=============================== warnings summary ===============================\u001b[0m\n",
            "test_math_1.py:11\n",
            "  assertion is always true, perhaps remove parentheses?\n",
            "\n",
            "-- Docs: http://doc.pytest.org/en/latest/warnings.html\n",
            "\u001b[1m\u001b[33m===================== 2 passed, 1 warnings in 0.53 seconds =====================\u001b[0m\n"
          ],
          "name": "stdout"
        }
      ]
    },
    {
      "cell_type": "markdown",
      "metadata": {
        "id": "DCETmxgdLyw4"
      },
      "source": [
        "#Assignment 1 - Linspace \n",
        "##1.Linspace - Builtin\n",
        "##2.Linspace - Custom ops"
      ]
    },
    {
      "cell_type": "code",
      "metadata": {
        "colab": {
          "base_uri": "https://localhost:8080/"
        },
        "id": "-wiXZV8TIMyX",
        "outputId": "e5d08000-7520-4059-c81f-72824e4d9e4e"
      },
      "source": [
        "import torch\n",
        "print('Linspace') \n",
        "x=torch.linspace(3,10,5)\n",
        "print(x)\n",
        "\n",
        "x1=3\n",
        "x2=10\n",
        "n=5\n",
        "a=torch.sub(x2,x1)\n",
        "b=torch.sub(n,1) \n",
        "c=torch.div(a,b) \n",
        "x1=c\n",
        "x=torch.range(3,10,step=x1)\n",
        "print('custom ops')\n",
        "print(x)"
      ],
      "execution_count": 1,
      "outputs": [
        {
          "output_type": "stream",
          "text": [
            "Linspace\n",
            "tensor([ 3.0000,  4.7500,  6.5000,  8.2500, 10.0000])\n",
            "custom ops\n",
            "tensor([ 3.0000,  4.7500,  6.5000,  8.2500, 10.0000])\n"
          ],
          "name": "stdout"
        },
        {
          "output_type": "stream",
          "text": [
            "/usr/local/lib/python3.7/dist-packages/ipykernel_launcher.py:13: UserWarning: torch.range is deprecated and will be removed in a future release because its behavior is inconsistent with Python's range builtin. Instead, use torch.arange, which produces values in [start, end).\n",
            "  del sys.path[0]\n"
          ],
          "name": "stderr"
        }
      ]
    },
    {
      "cell_type": "markdown",
      "metadata": {
        "id": "NF2P47mRMWxv"
      },
      "source": [
        "##Pytest for Linspace builtin"
      ]
    },
    {
      "cell_type": "code",
      "metadata": {
        "colab": {
          "base_uri": "https://localhost:8080/"
        },
        "id": "ydSXdJ_jL72y",
        "outputId": "b38da196-710e-4a98-aa02-51aa8d3e39c9"
      },
      "source": [
        "%%file math_2.py\n",
        "\n",
        "import torch\n",
        "\n",
        "def compute_function(start,end,steps):\n",
        "\n",
        "  x=torch.linspace(start,end,steps)\n",
        "  \n",
        "  return x\n",
        "\n",
        "\n"
      ],
      "execution_count": 119,
      "outputs": [
        {
          "output_type": "stream",
          "text": [
            "Overwriting math_2.py\n"
          ],
          "name": "stdout"
        }
      ]
    },
    {
      "cell_type": "code",
      "metadata": {
        "colab": {
          "base_uri": "https://localhost:8080/"
        },
        "id": "qa5rwlJpM5RL",
        "outputId": "2438654f-7e34-489c-d8d1-647756c05718"
      },
      "source": [
        "%%file test_math_2.py\n",
        "\n",
        "import math_2\n",
        "import torch\n",
        "\n",
        "def test_compute_function():\n",
        " \n",
        "  x=torch.Tensor([2.0000,5.2500,8.5000,11.7500,15.0000])\n",
        "\n",
        "  assert x,math_2.compute_function(2,15,5)\n",
        "  \n"
      ],
      "execution_count": 120,
      "outputs": [
        {
          "output_type": "stream",
          "text": [
            "Overwriting test_math_2.py\n"
          ],
          "name": "stdout"
        }
      ]
    },
    {
      "cell_type": "code",
      "metadata": {
        "colab": {
          "base_uri": "https://localhost:8080/"
        },
        "id": "g6KiuIpyNgFO",
        "outputId": "381b0da0-6eb5-4d94-a7c7-925de25a46e0"
      },
      "source": [
        "!pytest -v test_math_2.py"
      ],
      "execution_count": 121,
      "outputs": [
        {
          "output_type": "stream",
          "text": [
            "\u001b[1m============================= test session starts ==============================\u001b[0m\n",
            "platform linux2 -- Python 2.7.17, pytest-3.6.4, py-1.8.0, pluggy-0.7.1 -- /usr/bin/python2\n",
            "cachedir: .pytest_cache\n",
            "rootdir: /content, inifile:\n",
            "collected 1 item                                                               \u001b[0m\n",
            "\n",
            "test_math_2.py::test_compute_function \u001b[31mFAILED\u001b[0m\u001b[36m                             [100%]\u001b[0m\n",
            "\n",
            "=================================== FAILURES ===================================\n",
            "\u001b[1m\u001b[31m____________________________ test_compute_function _____________________________\u001b[0m\n",
            "\n",
            "\u001b[1m    def test_compute_function():\u001b[0m\n",
            "\u001b[1m    \u001b[0m\n",
            "\u001b[1m      x=torch.Tensor([2.0000,5.2500,8.5000,11.7500,15.0000])\u001b[0m\n",
            "\u001b[1m    \u001b[0m\n",
            "\u001b[1m>     assert x,math_2.compute_function(2,15,5)\u001b[0m\n",
            "\u001b[1m\u001b[31mE     RuntimeError: bool value of Tensor with more than one value is ambiguous\u001b[0m\n",
            "\n",
            "\u001b[1m\u001b[31mtest_math_2.py\u001b[0m:9: RuntimeError\n",
            "\u001b[1m\u001b[31m=========================== 1 failed in 0.55 seconds ===========================\u001b[0m\n"
          ],
          "name": "stdout"
        }
      ]
    },
    {
      "cell_type": "markdown",
      "metadata": {
        "id": "85oIepSnz0tj"
      },
      "source": [
        "PyTest for Custom ops"
      ]
    },
    {
      "cell_type": "code",
      "metadata": {
        "colab": {
          "base_uri": "https://localhost:8080/"
        },
        "id": "f9IznPobSW-1",
        "outputId": "d7cad145-f014-4f50-9477-6601bdf2aaa9"
      },
      "source": [
        "%%file math_2.py\n",
        "\n",
        "import torch\n",
        "\n",
        "X=torch.linspace(3,10,5)\n",
        "\n",
        "def compute_function(start,end,steps):\n",
        "\n",
        "  # x1=3\n",
        "  # x2=10\n",
        "  # n=5\n",
        "  a=torch.sub(end,start)\n",
        "  b=torch.sub(steps,1)\n",
        "  c=torch.div(a,b)\n",
        "  x1=c\n",
        "  m=start\n",
        "  n=end\n",
        "  x=torch.range(m,n,x1)\n",
        "\n",
        "  return x\n",
        "  \n",
        "\n",
        "# x1=3\n",
        "# x2=10\n",
        "# n=5\n",
        "# a=torch.sub(x2,x1) \n",
        "# b=torch.sub(n,1) \n",
        "# c=torch.div(a,b) \n",
        "# x1=c\n",
        "# x=torch.range(3,10,step=x1)\n",
        "# print('custom ops')\n",
        "# print(x)\n",
        "\n",
        "  \n",
        "#   return x\n"
      ],
      "execution_count": 96,
      "outputs": [
        {
          "output_type": "stream",
          "text": [
            "Overwriting math_2.py\n"
          ],
          "name": "stdout"
        }
      ]
    },
    {
      "cell_type": "code",
      "metadata": {
        "colab": {
          "base_uri": "https://localhost:8080/"
        },
        "id": "omZJA1wLTBp0",
        "outputId": "3f4611c6-2b92-4df9-a352-3a581af77a32"
      },
      "source": [
        "%%file test_math_2.py\n",
        "\n",
        "import math_2\n",
        "import torch\n",
        "\n",
        "def test_compute_function():\n",
        "  X=torch.linspace(3,10,5)\n",
        "  Y=math_2.compute_function(3,10,5)\n",
        "  assert torch.equal(X,Y)\n",
        " \n",
        "\n",
        "  \n",
        "  \n"
      ],
      "execution_count": 122,
      "outputs": [
        {
          "output_type": "stream",
          "text": [
            "Overwriting test_math_2.py\n"
          ],
          "name": "stdout"
        }
      ]
    },
    {
      "cell_type": "code",
      "metadata": {
        "colab": {
          "base_uri": "https://localhost:8080/"
        },
        "id": "uI2Y4ctiTUjz",
        "outputId": "8b9aff7e-cff7-413e-8231-c86452bb3c91"
      },
      "source": [
        "!pytest -v test_math_2.py"
      ],
      "execution_count": 123,
      "outputs": [
        {
          "output_type": "stream",
          "text": [
            "\u001b[1m============================= test session starts ==============================\u001b[0m\n",
            "platform linux2 -- Python 2.7.17, pytest-3.6.4, py-1.8.0, pluggy-0.7.1 -- /usr/bin/python2\n",
            "cachedir: .pytest_cache\n",
            "rootdir: /content, inifile:\n",
            "collected 1 item                                                               \u001b[0m\n",
            "\n",
            "test_math_2.py::test_compute_function \u001b[32mPASSED\u001b[0m\u001b[36m                             [100%]\u001b[0m\n",
            "\n",
            "\u001b[32m\u001b[1m=========================== 1 passed in 0.49 seconds ===========================\u001b[0m\n"
          ],
          "name": "stdout"
        }
      ]
    },
    {
      "cell_type": "code",
      "metadata": {
        "id": "yk1gh2dzTUz3"
      },
      "source": [
        ""
      ],
      "execution_count": null,
      "outputs": []
    }
  ]
}