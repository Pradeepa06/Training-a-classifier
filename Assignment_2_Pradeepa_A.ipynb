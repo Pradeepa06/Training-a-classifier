{
  "nbformat": 4,
  "nbformat_minor": 0,
  "metadata": {
    "colab": {
      "name": "FINAL Assignment 2 Pradeepa A.ipynb",
      "provenance": [],
      "collapsed_sections": [],
      "authorship_tag": "ABX9TyP/JMhH9N3tHYUvXJcYTq4I",
      "include_colab_link": true
    },
    "kernelspec": {
      "name": "python3",
      "display_name": "Python 3"
    },
    "language_info": {
      "name": "python"
    }
  },
  "cells": [
    {
      "cell_type": "markdown",
      "metadata": {
        "id": "view-in-github",
        "colab_type": "text"
      },
      "source": [
        "<a href=\"https://colab.research.google.com/github/Pradeepa06/Training-a-classifier/blob/main/Assignment_2_Pradeepa_A.ipynb\" target=\"_parent\"><img src=\"https://colab.research.google.com/assets/colab-badge.svg\" alt=\"Open In Colab\"/></a>"
      ]
    },
    {
      "cell_type": "markdown",
      "metadata": {
        "id": "FIgfu3-a82mK"
      },
      "source": [
        "###FMod"
      ]
    },
    {
      "cell_type": "code",
      "metadata": {
        "colab": {
          "base_uri": "https://localhost:8080/"
        },
        "id": "1rvYtqCP89En",
        "outputId": "1cfb7be8-1f6b-43ee-d4b5-3c13f28833c7"
      },
      "source": [
        "import torch \n",
        "import numpy as np\n",
        "\n",
        "a = torch.Tensor([12,76,-21,3.4,124.96])\n",
        "b = torch.Tensor([34,875,12,6.7,98.3])\n",
        "\n",
        "\n",
        "out = torch.fmod(b, 14)\n",
        "print(out)\n",
        "\n",
        "#Check data type\n",
        "print('Datatype:',out.type())\n",
        "\n",
        "\n",
        "print('Custom ops')\n",
        "\n",
        "a = torch.Tensor([34,875,12,6.7,98.3])\n",
        "tensor_to_numpy=a.numpy()\n",
        "x=np.divmod(a,14)\n",
        "out=torch.cat(x)\n",
        "print('oout',out[5:])\n",
        "count=torch.count_nonzero(a)\n",
        "print(count)\n",
        "count_value=count.item()\n",
        "print(count_value)\n",
        "y=out[count_value:]\n",
        "\n",
        "y1=torch.sign(a)\n",
        "z=torch.mul(y,y1)\n",
        "print(z)\n",
        "\n",
        "print('Datatype:',z.type())\n",
        "\n"
      ],
      "execution_count": 328,
      "outputs": [
        {
          "output_type": "stream",
          "text": [
            "tensor([ 6.0000,  7.0000, 12.0000,  6.7000,  0.3000])\n",
            "Datatype: torch.FloatTensor\n",
            "Custom ops\n",
            "oout tensor([ 6.0000,  7.0000, 12.0000,  6.7000,  0.3000])\n",
            "tensor(5)\n",
            "5\n",
            "tensor([ 6.0000,  7.0000, 12.0000,  6.7000,  0.3000])\n",
            "Datatype: torch.FloatTensor\n"
          ],
          "name": "stdout"
        }
      ]
    },
    {
      "cell_type": "markdown",
      "metadata": {
        "id": "cvGrH-WriM6a"
      },
      "source": [
        "##PyTest"
      ]
    },
    {
      "cell_type": "code",
      "metadata": {
        "colab": {
          "base_uri": "https://localhost:8080/"
        },
        "id": "tj3Rcba2hLTF",
        "outputId": "fd4ea34e-80fe-40b3-96dd-37dec9139c83"
      },
      "source": [
        "%%file math_2.py\n",
        "\n",
        "import torch\n",
        "import numpy as np\n",
        "\n",
        "def compute_function(x,count):\n",
        "  tensor_to_numpy=x.numpy()\n",
        "  x=np.divmod(x,count)\n",
        "  out=torch.cat(x)\n",
        "  y=out[5:]\n",
        "  y1=torch.sign(y)\n",
        "  z=torch.mul(y,y1)\n",
        "  return z\n"
      ],
      "execution_count": 332,
      "outputs": [
        {
          "output_type": "stream",
          "text": [
            "Overwriting math_2.py\n"
          ],
          "name": "stdout"
        }
      ]
    },
    {
      "cell_type": "code",
      "metadata": {
        "colab": {
          "base_uri": "https://localhost:8080/"
        },
        "id": "wHFKMdvMiWuH",
        "outputId": "1edc6325-3d53-4afc-b59b-442bb07d3f14"
      },
      "source": [
        "\n",
        "%%file test_math_2.py\n",
        "\n",
        "import math_2\n",
        "import torch\n",
        "import pytest\n",
        "\n",
        "x1=torch.Tensor([12,0,21,3.4,124.96])\n",
        "x2=torch.Tensor([34,0,12,67,983])\n",
        "x3=torch.Tensor([-1,-4,-23,-67,-34]) \n",
        "x4=torch.Tensor([0,0,0,0,0])\n",
        "x5=torch.Tensor([12.45,64.1,98.5,3.6,4.2])\n",
        "x6=torch.Tensor([23.4,-56,98,-2.43,61])\n",
        "@pytest.mark.parametrize('x',(x1,x2,x3,x4,x5,x6))\n",
        "@pytest.mark.parametrize('count',(7,10,81,27,145,22))\n",
        " \n",
        "def test_compute_function(x,count):\n",
        "  \n",
        "  X=torch.fmod(x,count)\n",
        "  Y=math_2.compute_function(x,count)\n",
        "  assert torch.equal(X,Y)\n"
      ],
      "execution_count": 333,
      "outputs": [
        {
          "output_type": "stream",
          "text": [
            "Overwriting test_math_2.py\n"
          ],
          "name": "stdout"
        }
      ]
    },
    {
      "cell_type": "code",
      "metadata": {
        "colab": {
          "base_uri": "https://localhost:8080/"
        },
        "id": "s9Fy406nnpnK",
        "outputId": "703544f9-661c-42cf-c583-b5d75777804f"
      },
      "source": [
        "\n",
        "!pytest -v test_math_2.py"
      ],
      "execution_count": 334,
      "outputs": [
        {
          "output_type": "stream",
          "text": [
            "\u001b[1m============================= test session starts ==============================\u001b[0m\n",
            "platform linux2 -- Python 2.7.17, pytest-3.6.4, py-1.8.0, pluggy-0.7.1 -- /usr/bin/python2\n",
            "cachedir: .pytest_cache\n",
            "rootdir: /content, inifile:\n",
            "collected 36 items                                                             \u001b[0m\n",
            "\n",
            "test_math_2.py::test_compute_function[7-x0] \u001b[32mPASSED\u001b[0m\u001b[36m                       [  2%]\u001b[0m\n",
            "test_math_2.py::test_compute_function[7-x1] \u001b[32mPASSED\u001b[0m\u001b[36m                       [  5%]\u001b[0m\n",
            "test_math_2.py::test_compute_function[7-x2] \u001b[32mPASSED\u001b[0m\u001b[36m                       [  8%]\u001b[0m\n",
            "test_math_2.py::test_compute_function[7-x3] \u001b[32mPASSED\u001b[0m\u001b[36m                       [ 11%]\u001b[0m\n",
            "test_math_2.py::test_compute_function[7-x4] \u001b[32mPASSED\u001b[0m\u001b[36m                       [ 13%]\u001b[0m\n",
            "test_math_2.py::test_compute_function[7-x5] \u001b[32mPASSED\u001b[0m\u001b[36m                       [ 16%]\u001b[0m\n",
            "test_math_2.py::test_compute_function[10-x0] \u001b[32mPASSED\u001b[0m\u001b[36m                      [ 19%]\u001b[0m\n",
            "test_math_2.py::test_compute_function[10-x1] \u001b[32mPASSED\u001b[0m\u001b[36m                      [ 22%]\u001b[0m\n",
            "test_math_2.py::test_compute_function[10-x2] \u001b[32mPASSED\u001b[0m\u001b[36m                      [ 25%]\u001b[0m\n",
            "test_math_2.py::test_compute_function[10-x3] \u001b[32mPASSED\u001b[0m\u001b[36m                      [ 27%]\u001b[0m\n",
            "test_math_2.py::test_compute_function[10-x4] \u001b[32mPASSED\u001b[0m\u001b[36m                      [ 30%]\u001b[0m\n",
            "test_math_2.py::test_compute_function[10-x5] \u001b[32mPASSED\u001b[0m\u001b[36m                      [ 33%]\u001b[0m\n",
            "test_math_2.py::test_compute_function[81-x0] \u001b[32mPASSED\u001b[0m\u001b[36m                      [ 36%]\u001b[0m\n",
            "test_math_2.py::test_compute_function[81-x1] \u001b[32mPASSED\u001b[0m\u001b[36m                      [ 38%]\u001b[0m\n",
            "test_math_2.py::test_compute_function[81-x2] \u001b[32mPASSED\u001b[0m\u001b[36m                      [ 41%]\u001b[0m\n",
            "test_math_2.py::test_compute_function[81-x3] \u001b[32mPASSED\u001b[0m\u001b[36m                      [ 44%]\u001b[0m\n",
            "test_math_2.py::test_compute_function[81-x4] \u001b[32mPASSED\u001b[0m\u001b[36m                      [ 47%]\u001b[0m\n",
            "test_math_2.py::test_compute_function[81-x5] \u001b[32mPASSED\u001b[0m\u001b[36m                      [ 50%]\u001b[0m\n",
            "test_math_2.py::test_compute_function[27-x0] \u001b[32mPASSED\u001b[0m\u001b[36m                      [ 52%]\u001b[0m\n",
            "test_math_2.py::test_compute_function[27-x1] \u001b[32mPASSED\u001b[0m\u001b[36m                      [ 55%]\u001b[0m\n",
            "test_math_2.py::test_compute_function[27-x2] \u001b[32mPASSED\u001b[0m\u001b[36m                      [ 58%]\u001b[0m\n",
            "test_math_2.py::test_compute_function[27-x3] \u001b[32mPASSED\u001b[0m\u001b[36m                      [ 61%]\u001b[0m\n",
            "test_math_2.py::test_compute_function[27-x4] \u001b[32mPASSED\u001b[0m\u001b[36m                      [ 63%]\u001b[0m\n",
            "test_math_2.py::test_compute_function[27-x5] \u001b[32mPASSED\u001b[0m\u001b[36m                      [ 66%]\u001b[0m\n",
            "test_math_2.py::test_compute_function[145-x0] \u001b[32mPASSED\u001b[0m\u001b[36m                     [ 69%]\u001b[0m\n",
            "test_math_2.py::test_compute_function[145-x1] \u001b[32mPASSED\u001b[0m\u001b[36m                     [ 72%]\u001b[0m\n",
            "test_math_2.py::test_compute_function[145-x2] \u001b[32mPASSED\u001b[0m\u001b[36m                     [ 75%]\u001b[0m\n",
            "test_math_2.py::test_compute_function[145-x3] \u001b[32mPASSED\u001b[0m\u001b[36m                     [ 77%]\u001b[0m\n",
            "test_math_2.py::test_compute_function[145-x4] \u001b[32mPASSED\u001b[0m\u001b[36m                     [ 80%]\u001b[0m\n",
            "test_math_2.py::test_compute_function[145-x5] \u001b[32mPASSED\u001b[0m\u001b[36m                     [ 83%]\u001b[0m\n",
            "test_math_2.py::test_compute_function[22-x0] \u001b[32mPASSED\u001b[0m\u001b[36m                      [ 86%]\u001b[0m\n",
            "test_math_2.py::test_compute_function[22-x1] \u001b[32mPASSED\u001b[0m\u001b[36m                      [ 88%]\u001b[0m\n",
            "test_math_2.py::test_compute_function[22-x2] \u001b[32mPASSED\u001b[0m\u001b[36m                      [ 91%]\u001b[0m\n",
            "test_math_2.py::test_compute_function[22-x3] \u001b[32mPASSED\u001b[0m\u001b[36m                      [ 94%]\u001b[0m\n",
            "test_math_2.py::test_compute_function[22-x4] \u001b[32mPASSED\u001b[0m\u001b[36m                      [ 97%]\u001b[0m\n",
            "test_math_2.py::test_compute_function[22-x5] \u001b[32mPASSED\u001b[0m\u001b[36m                      [100%]\u001b[0m\n",
            "\n",
            "\u001b[32m\u001b[1m========================== 36 passed in 0.51 seconds ===========================\u001b[0m\n"
          ],
          "name": "stdout"
        }
      ]
    },
    {
      "cell_type": "code",
      "metadata": {
        "id": "ebtgxz7Fuloi"
      },
      "source": [
        ""
      ],
      "execution_count": null,
      "outputs": []
    }
  ]
}